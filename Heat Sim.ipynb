{
 "cells": [
  {
   "cell_type": "code",
   "execution_count": 113,
   "id": "d2a85c06",
   "metadata": {},
   "outputs": [],
   "source": [
    "import numpy as np\n",
    "#import handcalcs.render\n",
    "import forallpeople as si\n",
    "import scipy as sp\n",
    "#%config InlineBackend.figure_formats = ['svg']\n",
    "import matplotlib.pyplot as plt\n",
    "from math import sqrt,sin,tan,cos, pi\n",
    "si.environment('thermal',top_level=True)\n",
    "#%matplotlib inline\n",
    "#from handcalcs.decorator import handcalc\n",
    "from ipywidgets import interact,interactive, fixed, interact_manual\n",
    "import ipywidgets as widgets\n",
    "from scipy.optimize import fsolve\n",
    "from matplotlib.animation import FuncAnimation\n",
    "from skimage import color\n",
    "from skimage import io\n",
    "from IPython import display\n",
    "import sys\n",
    "np.set_printoptions(threshold=np.inf)\n",
    "from Dealer import deal"
   ]
  },
  {
   "cell_type": "markdown",
   "id": "00da69df-d92a-4676-89c2-3e237f47791e",
   "metadata": {},
   "source": [
    "# Load Image"
   ]
  },
  {
   "cell_type": "code",
   "execution_count": 67,
   "id": "6ac0d201-0521-4786-9174-f9ade29821b7",
   "metadata": {},
   "outputs": [
    {
     "data": {
      "text/plain": [
       "<matplotlib.image.AxesImage at 0x2001d1c0>"
      ]
     },
     "execution_count": 67,
     "metadata": {},
     "output_type": "execute_result"
    },
    {
     "data": {
      "image/png": "[encoded data removed]",
      "text/plain": [
       "<Figure size 432x288 with 1 Axes>"
      ]
     },
     "metadata": {
      "needs_background": "light"
     },
     "output_type": "display_data"
    }
   ],
   "source": [
    "#img = color.rgb2gray(io.imread('newflat.png'))\n",
    "#img = np.flip(img, axis = 0)\n",
    "img = plt.imread('flat.png')\n",
    "plt.imshow(img)\n",
    "#plt.contourf(img)\n",
    "#100mm by 100mm piece of aluminum\n",
    "#top = 80 C\n",
    "#bottom = 20 C\n",
    "#Left & Right = 30 C"
   ]
  },
  {
   "cell_type": "code",
   "execution_count": 57,
   "id": "3d352b10-59f0-4ffc-9ffb-2725efd31f38",
   "metadata": {},
   "outputs": [],
   "source": [
    "obj_bool = img<1.0\n",
    "mesh_size = 2\n",
    "sizeX = 20\n",
    "sizeY = 20\n",
    "Xnodes = sizeX/mesh_size+1\n",
    "Ynodes = sizeY/mesh_size+1\n",
    "condition = np.zeros([int(Xnodes),int(Ynodes)])\n",
    "topT = 150\n",
    "top_arr = topT*np.ones((1,int(Xnodes)))\n",
    "bottomT = 10\n",
    "bottom_arr = bottomT*np.ones((1,int(Xnodes)))\n",
    "leftT = -60\n",
    "left_arr = leftT*np.ones((int(Ynodes),1))\n",
    "rightT = 200\n",
    "right_arr = rightT*np.ones((int(Ynodes),1))\n",
    "side_arr = [topT,rightT,bottomT,leftT]\n",
    "MaxT = max(side_arr)\n",
    "MinT = min(side_arr)"
   ]
  },
  {
   "cell_type": "code",
   "execution_count": 74,
   "id": "968c87cc-9bcf-4cc2-b2d7-b0ad64bdf993",
   "metadata": {},
   "outputs": [],
   "source": [
    "for i in range(0,int(Xnodes-1)):\n",
    "    condition[0,i]=topT\n",
    "    condition[int(Ynodes-1),i]=bottomT\n",
    "    condition[i,0]=leftT\n",
    "    condition[i,int(Xnodes-1)]=rightT\n",
    "condition[0,0]= (condition[0,1]+condition[1,0])/2\n",
    "condition[0,int(Xnodes-1)]= (condition[0,int(Xnodes-2)]+condition[1,int(Xnodes-1)])/2\n",
    "condition[int(Ynodes-1),0]= (condition[int(Ynodes-2),0]+condition[int(Ynodes-1),1])/2\n",
    "condition[int(Ynodes-1),int(Xnodes-1)]= (condition[int(Ynodes-1),int(Xnodes-2)]+condition[int(Ynodes-2),int(Xnodes-1)])/2\n",
    "#print(condition)\n",
    "    \n"
   ]
  },
  {
   "cell_type": "code",
   "execution_count": 98,
   "id": "9b6a2e25-bed2-4daf-af0d-ee5511885ad2",
   "metadata": {},
   "outputs": [],
   "source": [
    "coeffM = np.identity(int((Xnodes-2)**2))\n",
    "#print(coeffM)\n",
    "#print(len(coeffM))"
   ]
  },
  {
   "cell_type": "code",
   "execution_count": 90,
   "id": "5ed2ab05-d1e5-49a0-9eb8-60b3f4fd7034",
   "metadata": {},
   "outputs": [],
   "source": [
    "#coeffM = np.empty([int((Xnodes-2)**2),int((Xnodes-2)**2)])\n",
    "variM = np.empty([0,1])\n",
    "varinit = 0\n",
    "for i in range(1,int(Xnodes-1)):\n",
    "    for j in range(1,int(Ynodes-1)):\n",
    "        varinit += condition[i,j+1]\n",
    "        varinit += condition[i,j-1]\n",
    "        varinit += condition[i-1,j]\n",
    "        varinit += condition[i+1,j]\n",
    "        variM = np.vstack([variM,int(varinit*-1)])\n",
    "        #variM.append(varinit)\n",
    "        varinit = 0 \n",
    "#print(variM)\n",
    "    \n",
    "generateRow = []\n",
    "for i in range(1,int((Xnodes-2)+1)):\n",
    "    pattern = -1\n",
    "    generateRow.append(int(-1+(Xnodes-2)*i))\n",
    "#print(generateRow)\n",
    "    \n",
    "for col in range(0, int(Xnodes-2)**2):\n",
    "    for row in range(0,int(Ynodes-2)**2):\n",
    "        if(row == col):\n",
    "            coeffM[row,col] = -4\n",
    "            if(row%(Xnodes-2)== 0):    #Left Edge Nodes\n",
    "                coeffM[row,col+1] = 1\n",
    "            if(row in generateRow):    #Right edge nodes\n",
    "                coeffM[row,col-1] = 1\n",
    "            if(col+(Xnodes-2)<= int(len(coeffM)-1)):\n",
    "                coeffM[row,col+int((Xnodes-2))] = 1\n",
    "            if(col-(Xnodes-2)>= 0):\n",
    "                coeffM[row,col-int((Xnodes-2))] = 1\n",
    "            if(row not in generateRow and row%(Xnodes-2)!= 0 ):\n",
    "                coeffM[row,col+1] = 1\n",
    "                coeffM[row,col-1] = 1\n",
    "        \n",
    "#print(coeffM)\n",
    "#print(int((Xnodes-2)*2))\n",
    "#print(2%(Xnodes-3))\n",
    "#print(skipLcol)\n",
    "#print(coeffM)\n",
    "    \n",
    "        \n",
    "    "
   ]
  },
  {
   "cell_type": "code",
   "execution_count": 93,
   "id": "c8ccff35-0efb-4820-b617-58c05d6b303b",
   "metadata": {},
   "outputs": [],
   "source": [
    "#Sol = np.linalg.inv(coeffM)\n",
    "Sol = sp.linalg.solve(coeffM,variM)\n",
    "Contour = np.empty([int(Xnodes-2),int(Xnodes-2)])\n",
    "for j in range(0,int((Xnodes))):\n",
    "    for i in range(0,int((Xnodes))):\n",
    "        #Contour[j,i] = Sol[i]\n",
    "        np.append(Contour,Sol[i])\n",
    "FContour = np.flip(Contour, axis=0)\n",
    "#print(Sol)\n",
    "#print(Contour)\n",
    "#print(np.flip(FContour,axis=0))\n",
    "#print(Sol)"
   ]
  },
  {
   "cell_type": "code",
   "execution_count": 94,
   "id": "49ed7da4-63c2-4884-8a4e-ac67dd8f2f6a",
   "metadata": {},
   "outputs": [
    {
     "data": {
      "image/png": "[encoded data removed]",
      "text/plain": [
       "<Figure size 432x288 with 2 Axes>"
      ]
     },
     "metadata": {
      "needs_background": "light"
     },
     "output_type": "display_data"
    }
   ],
   "source": [
    "cmaper = plt.get_cmap('turbo')\n",
    "#a = plt.contourf(np.flip(FContour,axis=0), 150, cmap=cmaper, vmin = np.min(FContour), vmax = np.max(FContour)*1 )\n",
    "#a = plt.contourf(np.transpose(FContour), 150, cmap=cmaper, vmin = np.min(FContour), vmax = np.max(FContour)*0.8 )\n",
    "Area1 = plt.contourf(FContour, 500, cmap=cmaper, vmin = np.min(FContour), vmax = np.max(FContour) )\n",
    "#plt.xlim((0, sizeX/2-2))\n",
    "#plt.ylim((0, sizeY/2-2)) \n",
    "\n",
    "plt.colorbar(Area1, label='T emperature (°C)')\n",
    "coeffM = np.identity(int((Xnodes-2)**2))"
   ]
  },
  {
   "cell_type": "code",
   "execution_count": 95,
   "id": "726de073-6660-4b73-ab28-1a921280a23a",
   "metadata": {},
   "outputs": [
    {
     "data": {
      "text/plain": [
       "176.3514404065148"
      ]
     },
     "execution_count": 95,
     "metadata": {},
     "output_type": "execute_result"
    }
   ],
   "source": [
    "np.max(FContour)"
   ]
  },
  {
   "cell_type": "code",
   "execution_count": 96,
   "id": "9ee69d61-ec1c-4cc5-8f7c-2099f2a1f250",
   "metadata": {},
   "outputs": [
    {
     "data": {
      "text/plain": [
       "103.67100115706529"
      ]
     },
     "execution_count": 96,
     "metadata": {},
     "output_type": "execute_result"
    }
   ],
   "source": [
    "FContour[0, int(len(Contour)-1)]"
   ]
  },
  {
   "cell_type": "code",
   "execution_count": 97,
   "id": "3d73369e-0f3c-4535-8058-4b30d22ad254",
   "metadata": {},
   "outputs": [
    {
     "data": {
      "text/plain": [
       "11.0"
      ]
     },
     "execution_count": 97,
     "metadata": {},
     "output_type": "execute_result"
    }
   ],
   "source": [
    "Xnodes"
   ]
  },
  {
   "cell_type": "code",
   "execution_count": 114,
   "id": "bf7e1fa6-6cff-49cc-a3da-426642579d98",
   "metadata": {},
   "outputs": [],
   "source": [
    "[card1,card2,card3,card4] = deal(4,50)"
   ]
  },
  {
   "cell_type": "code",
   "execution_count": 115,
   "id": "ae6204e6-8625-4249-a82a-0bb933f168a3",
   "metadata": {},
   "outputs": [
    {
     "data": {
      "text/plain": [
       "50"
      ]
     },
     "execution_count": 115,
     "metadata": {},
     "output_type": "execute_result"
    }
   ],
   "source": []
  },
  {
   "cell_type": "code",
   "execution_count": null,
   "id": "aaff531b-addf-409f-a712-48d5ac07e2d2",
   "metadata": {},
   "outputs": [],
   "source": []
  }
 ],
 "metadata": {
  "kernelspec": {
   "display_name": "Python 3 (ipykernel)",
   "language": "python",
   "name": "python3"
  },
  "language_info": {
   "codemirror_mode": {
    "name": "ipython",
    "version": 3
   },
   "file_extension": ".py",
   "mimetype": "text/x-python",
   "name": "python",
   "nbconvert_exporter": "python",
   "pygments_lexer": "ipython3",
   "version": "3.8.2"
  }
 },
 "nbformat": 4,
 "nbformat_minor": 5
}
